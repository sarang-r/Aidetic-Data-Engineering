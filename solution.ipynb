{
  "cells": [
    {
      "cell_type": "code",
      "execution_count": 2,
      "metadata": {
        "colab": {
          "base_uri": "https://localhost:8080/"
        },
        "id": "9ycmu1d5_L2z",
        "outputId": "062d2d74-ffe8-440c-8de8-f512433158b2"
      },
      "outputs": [
        {
          "name": "stdout",
          "output_type": "stream",
          "text": [
            "+----------+--------+--------+---------+----------+-----+-----------+----------------------+---------+--------------+---------------+--------------------------+-------------+-------------------+----------------+----------------+--------------------+---------+---------------+----------------+---------+\n",
            "|      Date|    Time|Latitude|Longitude|      Type|Depth|Depth Error|Depth Seismic Stations|Magnitude|Magnitude Type|Magnitude Error|Magnitude Seismic Stations|Azimuthal Gap|Horizontal Distance|Horizontal Error|Root Mean Square|                  ID|   Source|Location Source|Magnitude Source|   Status|\n",
            "+----------+--------+--------+---------+----------+-----+-----------+----------------------+---------+--------------+---------------+--------------------------+-------------+-------------------+----------------+----------------+--------------------+---------+---------------+----------------+---------+\n",
            "|01/02/1965|13:44:18|  19.246|  145.616|Earthquake|131.6|       NULL|                  NULL|      6.0|            MW|           NULL|                      NULL|         NULL|               NULL|            NULL|            NULL|        ISCGEM860706|   ISCGEM|         ISCGEM|          ISCGEM|Automatic|\n",
            "|01/04/1965|11:29:49|   1.863|  127.352|Earthquake| 80.0|       NULL|                  NULL|      5.8|            MW|           NULL|                      NULL|         NULL|               NULL|            NULL|            NULL|        ISCGEM860737|   ISCGEM|         ISCGEM|          ISCGEM|Automatic|\n",
            "|01/05/1965|18:05:58| -20.579| -173.972|Earthquake| 20.0|       NULL|                  NULL|      6.2|            MW|           NULL|                      NULL|         NULL|               NULL|            NULL|            NULL|        ISCGEM860762|   ISCGEM|         ISCGEM|          ISCGEM|Automatic|\n",
            "|01/08/1965|18:49:43| -59.076|  -23.557|Earthquake| 15.0|       NULL|                  NULL|      5.8|            MW|           NULL|                      NULL|         NULL|               NULL|            NULL|            NULL|        ISCGEM860856|   ISCGEM|         ISCGEM|          ISCGEM|Automatic|\n",
            "|01/09/1965|13:32:50|  11.938|  126.427|Earthquake| 15.0|       NULL|                  NULL|      5.8|            MW|           NULL|                      NULL|         NULL|               NULL|            NULL|            NULL|        ISCGEM860890|   ISCGEM|         ISCGEM|          ISCGEM|Automatic|\n",
            "|01/10/1965|13:36:32| -13.405|  166.629|Earthquake| 35.0|       NULL|                  NULL|      6.7|            MW|           NULL|                      NULL|         NULL|               NULL|            NULL|            NULL|        ISCGEM860922|   ISCGEM|         ISCGEM|          ISCGEM|Automatic|\n",
            "|01/12/1965|13:32:25|  27.357|   87.867|Earthquake| 20.0|       NULL|                  NULL|      5.9|            MW|           NULL|                      NULL|         NULL|               NULL|            NULL|            NULL|        ISCGEM861007|   ISCGEM|         ISCGEM|          ISCGEM|Automatic|\n",
            "|01/15/1965|23:17:42| -13.309|  166.212|Earthquake| 35.0|       NULL|                  NULL|      6.0|            MW|           NULL|                      NULL|         NULL|               NULL|            NULL|            NULL|        ISCGEM861111|   ISCGEM|         ISCGEM|          ISCGEM|Automatic|\n",
            "|01/16/1965|11:32:37| -56.452|  -27.043|Earthquake| 95.0|       NULL|                  NULL|      6.0|            MW|           NULL|                      NULL|         NULL|               NULL|            NULL|            NULL|     ISCGEMSUP861125|ISCGEMSUP|         ISCGEM|          ISCGEM|Automatic|\n",
            "|01/17/1965|10:43:17| -24.563|  178.487|Earthquake|565.0|       NULL|                  NULL|      5.8|            MW|           NULL|                      NULL|         NULL|               NULL|            NULL|            NULL|        ISCGEM861148|   ISCGEM|         ISCGEM|          ISCGEM|Automatic|\n",
            "|01/17/1965|20:57:41|  -6.807|  108.988|Earthquake|227.9|       NULL|                  NULL|      5.9|            MW|           NULL|                      NULL|         NULL|               NULL|            NULL|            NULL|        ISCGEM861155|   ISCGEM|         ISCGEM|          ISCGEM|Automatic|\n",
            "|01/24/1965|00:11:17|  -2.608|  125.952|Earthquake| 20.0|       NULL|                  NULL|      8.2|            MW|           NULL|                      NULL|         NULL|               NULL|            NULL|            NULL|        ISCGEM861299|   ISCGEM|         ISCGEM|          ISCGEM|Automatic|\n",
            "|01/29/1965|09:35:30|  54.636|  161.703|Earthquake| 55.0|       NULL|                  NULL|      5.5|            MW|           NULL|                      NULL|         NULL|               NULL|            NULL|            NULL|        ISCGEM861461|   ISCGEM|         ISCGEM|          ISCGEM|Automatic|\n",
            "|02/01/1965|05:27:06| -18.697| -177.864|Earthquake|482.9|       NULL|                  NULL|      5.6|            MW|           NULL|                      NULL|         NULL|               NULL|            NULL|            NULL|        ISCGEM859136|   ISCGEM|         ISCGEM|          ISCGEM|Automatic|\n",
            "|02/02/1965|15:56:51|  37.523|   73.251|Earthquake| 15.0|       NULL|                  NULL|      6.0|            MW|           NULL|                      NULL|         NULL|               NULL|            NULL|            NULL|        ISCGEM859164|   ISCGEM|         ISCGEM|          ISCGEM|Automatic|\n",
            "|02/04/1965|03:25:00|  -51.84|  139.741|Earthquake| 10.0|       NULL|                  NULL|      6.1|            MW|           NULL|                      NULL|         NULL|               NULL|            NULL|            NULL|        ISCGEM859200|   ISCGEM|         ISCGEM|          ISCGEM|Automatic|\n",
            "|02/04/1965|05:01:22|  51.251|  178.715|Earthquake| 30.3|       NULL|                  NULL|      8.7|            MW|           NULL|                      NULL|         NULL|               NULL|            NULL|            NULL|OFFICIAL196502040...| OFFICIAL|         ISCGEM|        OFFICIAL|Automatic|\n",
            "|02/04/1965|06:04:59|  51.639|  175.055|Earthquake| 30.0|       NULL|                  NULL|      6.0|            MW|           NULL|                      NULL|         NULL|               NULL|            NULL|            NULL|     ISCGEMSUP859215|ISCGEMSUP|         ISCGEM|          ISCGEM|Automatic|\n",
            "|02/04/1965|06:37:06|  52.528|  172.007|Earthquake| 25.0|       NULL|                  NULL|      5.7|            MW|           NULL|                      NULL|         NULL|               NULL|            NULL|            NULL|        ISCGEM859221|   ISCGEM|         ISCGEM|          ISCGEM|Automatic|\n",
            "|02/04/1965|06:39:32|  51.626|  175.746|Earthquake| 25.0|       NULL|                  NULL|      5.8|            MW|           NULL|                      NULL|         NULL|               NULL|            NULL|            NULL|        ISCGEM859222|   ISCGEM|         ISCGEM|          ISCGEM|Automatic|\n",
            "+----------+--------+--------+---------+----------+-----+-----------+----------------------+---------+--------------+---------------+--------------------------+-------------+-------------------+----------------+----------------+--------------------+---------+---------------+----------------+---------+\n",
            "only showing top 20 rows\n",
            "\n"
          ]
        }
      ],
      "source": [
        "from pyspark.sql import SparkSession\n",
        "from pyspark.sql.functions import concat, col, to_timestamp, lit, avg, udf, sqrt\n",
        "from pyspark.sql.types import StructType, StructField, StringType, DoubleType, TimestampType\n",
        "\n",
        "# Create a Spark session\n",
        "spark = SparkSession.builder.master(\"local[2]\").appName(\"Aidetic\").getOrCreate()\n",
        "csv_path = \"data/database.csv\"\n",
        "\n",
        "custom_schema = StructType([\n",
        "    StructField(\"Date\", StringType(), True),\n",
        "    StructField(\"Time\", StringType(), True),\n",
        "    StructField(\"Latitude\", DoubleType(), True),\n",
        "    StructField(\"Longitude\", DoubleType(), True),\n",
        "    StructField(\"Type\", StringType(), True),\n",
        "    StructField(\"Depth\", DoubleType(), True),\n",
        "    StructField(\"Depth Error\", DoubleType(), True),\n",
        "    StructField(\"Depth Seismic Stations\", DoubleType(), True),\n",
        "    StructField(\"Magnitude\", DoubleType(), True),\n",
        "    StructField(\"Magnitude Type\", StringType(), True),\n",
        "    StructField(\"Magnitude Error\", DoubleType(), True),\n",
        "    StructField(\"Magnitude Seismic Stations\", DoubleType(), True),\n",
        "    StructField(\"Azimuthal Gap\", DoubleType(), True),\n",
        "    StructField(\"Horizontal Distance\", DoubleType(), True),\n",
        "    StructField(\"Horizontal Error\", DoubleType(), True),\n",
        "    StructField(\"Root Mean Square\", DoubleType(), True),\n",
        "    StructField(\"ID\", StringType(), True),\n",
        "    StructField(\"Source\", StringType(), True),\n",
        "    StructField(\"Location Source\", StringType(), True),\n",
        "    StructField(\"Magnitude Source\", StringType(), True),\n",
        "    StructField(\"Status\", StringType(), True),\n",
        "])\n",
        "\n",
        "\n",
        "# Read the CSV file into a DataFrame\n",
        "# df = spark.read.csv(csv_path, header=True, inferSchema=True)\n",
        "df = spark.read.csv(csv_path, header=True, schema=custom_schema)\n",
        "df.show()"
      ]
    },
    {
      "cell_type": "code",
      "execution_count": 3,
      "metadata": {
        "colab": {
          "base_uri": "https://localhost:8080/"
        },
        "id": "Fg9Ij0wqAiyt",
        "outputId": "4aea2c7c-3878-41d8-b51a-b8efa6689f97"
      },
      "outputs": [
        {
          "name": "stdout",
          "output_type": "stream",
          "text": [
            "+----------+--------+--------+---------+----------+-----+-----------+----------------------+---------+--------------+---------------+--------------------------+-------------+-------------------+----------------+----------------+--------------------+---------+---------------+----------------+---------+-------------------+\n",
            "|      Date|    Time|Latitude|Longitude|      Type|Depth|Depth Error|Depth Seismic Stations|Magnitude|Magnitude Type|Magnitude Error|Magnitude Seismic Stations|Azimuthal Gap|Horizontal Distance|Horizontal Error|Root Mean Square|                  ID|   Source|Location Source|Magnitude Source|   Status|          Timestamp|\n",
            "+----------+--------+--------+---------+----------+-----+-----------+----------------------+---------+--------------+---------------+--------------------------+-------------+-------------------+----------------+----------------+--------------------+---------+---------------+----------------+---------+-------------------+\n",
            "|01/02/1965|13:44:18|  19.246|  145.616|Earthquake|131.6|       NULL|                  NULL|      6.0|            MW|           NULL|                      NULL|         NULL|               NULL|            NULL|            NULL|        ISCGEM860706|   ISCGEM|         ISCGEM|          ISCGEM|Automatic|1965-01-02 13:44:18|\n",
            "|01/04/1965|11:29:49|   1.863|  127.352|Earthquake| 80.0|       NULL|                  NULL|      5.8|            MW|           NULL|                      NULL|         NULL|               NULL|            NULL|            NULL|        ISCGEM860737|   ISCGEM|         ISCGEM|          ISCGEM|Automatic|1965-01-04 11:29:49|\n",
            "|01/05/1965|18:05:58| -20.579| -173.972|Earthquake| 20.0|       NULL|                  NULL|      6.2|            MW|           NULL|                      NULL|         NULL|               NULL|            NULL|            NULL|        ISCGEM860762|   ISCGEM|         ISCGEM|          ISCGEM|Automatic|1965-01-05 18:05:58|\n",
            "|01/08/1965|18:49:43| -59.076|  -23.557|Earthquake| 15.0|       NULL|                  NULL|      5.8|            MW|           NULL|                      NULL|         NULL|               NULL|            NULL|            NULL|        ISCGEM860856|   ISCGEM|         ISCGEM|          ISCGEM|Automatic|1965-01-08 18:49:43|\n",
            "|01/09/1965|13:32:50|  11.938|  126.427|Earthquake| 15.0|       NULL|                  NULL|      5.8|            MW|           NULL|                      NULL|         NULL|               NULL|            NULL|            NULL|        ISCGEM860890|   ISCGEM|         ISCGEM|          ISCGEM|Automatic|1965-01-09 13:32:50|\n",
            "|01/10/1965|13:36:32| -13.405|  166.629|Earthquake| 35.0|       NULL|                  NULL|      6.7|            MW|           NULL|                      NULL|         NULL|               NULL|            NULL|            NULL|        ISCGEM860922|   ISCGEM|         ISCGEM|          ISCGEM|Automatic|1965-01-10 13:36:32|\n",
            "|01/12/1965|13:32:25|  27.357|   87.867|Earthquake| 20.0|       NULL|                  NULL|      5.9|            MW|           NULL|                      NULL|         NULL|               NULL|            NULL|            NULL|        ISCGEM861007|   ISCGEM|         ISCGEM|          ISCGEM|Automatic|1965-01-12 13:32:25|\n",
            "|01/15/1965|23:17:42| -13.309|  166.212|Earthquake| 35.0|       NULL|                  NULL|      6.0|            MW|           NULL|                      NULL|         NULL|               NULL|            NULL|            NULL|        ISCGEM861111|   ISCGEM|         ISCGEM|          ISCGEM|Automatic|1965-01-15 23:17:42|\n",
            "|01/16/1965|11:32:37| -56.452|  -27.043|Earthquake| 95.0|       NULL|                  NULL|      6.0|            MW|           NULL|                      NULL|         NULL|               NULL|            NULL|            NULL|     ISCGEMSUP861125|ISCGEMSUP|         ISCGEM|          ISCGEM|Automatic|1965-01-16 11:32:37|\n",
            "|01/17/1965|10:43:17| -24.563|  178.487|Earthquake|565.0|       NULL|                  NULL|      5.8|            MW|           NULL|                      NULL|         NULL|               NULL|            NULL|            NULL|        ISCGEM861148|   ISCGEM|         ISCGEM|          ISCGEM|Automatic|1965-01-17 10:43:17|\n",
            "|01/17/1965|20:57:41|  -6.807|  108.988|Earthquake|227.9|       NULL|                  NULL|      5.9|            MW|           NULL|                      NULL|         NULL|               NULL|            NULL|            NULL|        ISCGEM861155|   ISCGEM|         ISCGEM|          ISCGEM|Automatic|1965-01-17 20:57:41|\n",
            "|01/24/1965|00:11:17|  -2.608|  125.952|Earthquake| 20.0|       NULL|                  NULL|      8.2|            MW|           NULL|                      NULL|         NULL|               NULL|            NULL|            NULL|        ISCGEM861299|   ISCGEM|         ISCGEM|          ISCGEM|Automatic|1965-01-24 00:11:17|\n",
            "|01/29/1965|09:35:30|  54.636|  161.703|Earthquake| 55.0|       NULL|                  NULL|      5.5|            MW|           NULL|                      NULL|         NULL|               NULL|            NULL|            NULL|        ISCGEM861461|   ISCGEM|         ISCGEM|          ISCGEM|Automatic|1965-01-29 09:35:30|\n",
            "|02/01/1965|05:27:06| -18.697| -177.864|Earthquake|482.9|       NULL|                  NULL|      5.6|            MW|           NULL|                      NULL|         NULL|               NULL|            NULL|            NULL|        ISCGEM859136|   ISCGEM|         ISCGEM|          ISCGEM|Automatic|1965-02-01 05:27:06|\n",
            "|02/02/1965|15:56:51|  37.523|   73.251|Earthquake| 15.0|       NULL|                  NULL|      6.0|            MW|           NULL|                      NULL|         NULL|               NULL|            NULL|            NULL|        ISCGEM859164|   ISCGEM|         ISCGEM|          ISCGEM|Automatic|1965-02-02 15:56:51|\n",
            "|02/04/1965|03:25:00|  -51.84|  139.741|Earthquake| 10.0|       NULL|                  NULL|      6.1|            MW|           NULL|                      NULL|         NULL|               NULL|            NULL|            NULL|        ISCGEM859200|   ISCGEM|         ISCGEM|          ISCGEM|Automatic|1965-02-04 03:25:00|\n",
            "|02/04/1965|05:01:22|  51.251|  178.715|Earthquake| 30.3|       NULL|                  NULL|      8.7|            MW|           NULL|                      NULL|         NULL|               NULL|            NULL|            NULL|OFFICIAL196502040...| OFFICIAL|         ISCGEM|        OFFICIAL|Automatic|1965-02-04 05:01:22|\n",
            "|02/04/1965|06:04:59|  51.639|  175.055|Earthquake| 30.0|       NULL|                  NULL|      6.0|            MW|           NULL|                      NULL|         NULL|               NULL|            NULL|            NULL|     ISCGEMSUP859215|ISCGEMSUP|         ISCGEM|          ISCGEM|Automatic|1965-02-04 06:04:59|\n",
            "|02/04/1965|06:37:06|  52.528|  172.007|Earthquake| 25.0|       NULL|                  NULL|      5.7|            MW|           NULL|                      NULL|         NULL|               NULL|            NULL|            NULL|        ISCGEM859221|   ISCGEM|         ISCGEM|          ISCGEM|Automatic|1965-02-04 06:37:06|\n",
            "|02/04/1965|06:39:32|  51.626|  175.746|Earthquake| 25.0|       NULL|                  NULL|      5.8|            MW|           NULL|                      NULL|         NULL|               NULL|            NULL|            NULL|        ISCGEM859222|   ISCGEM|         ISCGEM|          ISCGEM|Automatic|1965-02-04 06:39:32|\n",
            "+----------+--------+--------+---------+----------+-----+-----------+----------------------+---------+--------------+---------------+--------------------------+-------------+-------------------+----------------+----------------+--------------------+---------+---------------+----------------+---------+-------------------+\n",
            "only showing top 20 rows\n",
            "\n"
          ]
        }
      ],
      "source": [
        "df = df.withColumn(\"Timestamp\", to_timestamp(concat(col(\"Date\"), lit(\" \"), col(\"Time\")), \"MM/dd/yyyy HH:mm:ss\"))\n",
        "df.show()"
      ]
    },
    {
      "cell_type": "code",
      "execution_count": 4,
      "metadata": {
        "colab": {
          "base_uri": "https://localhost:8080/"
        },
        "id": "i8dB1Buv_L20",
        "outputId": "f10def6d-c0a8-4eb0-f7f0-c6ae17664f9a"
      },
      "outputs": [
        {
          "name": "stdout",
          "output_type": "stream",
          "text": [
            "+----------+--------+--------+---------+----------+-----+-----------+----------------------+---------+--------------+---------------+--------------------------+-------------+-------------------+----------------+----------------+--------------------+---------+---------------+----------------+---------+-------------------+\n",
            "|      Date|    Time|Latitude|Longitude|      Type|Depth|Depth Error|Depth Seismic Stations|Magnitude|Magnitude Type|Magnitude Error|Magnitude Seismic Stations|Azimuthal Gap|Horizontal Distance|Horizontal Error|Root Mean Square|                  ID|   Source|Location Source|Magnitude Source|   Status|          Timestamp|\n",
            "+----------+--------+--------+---------+----------+-----+-----------+----------------------+---------+--------------+---------------+--------------------------+-------------+-------------------+----------------+----------------+--------------------+---------+---------------+----------------+---------+-------------------+\n",
            "|01/02/1965|13:44:18|  19.246|  145.616|Earthquake|131.6|       NULL|                  NULL|      6.0|            MW|           NULL|                      NULL|         NULL|               NULL|            NULL|            NULL|        ISCGEM860706|   ISCGEM|         ISCGEM|          ISCGEM|Automatic|1965-01-02 13:44:18|\n",
            "|01/04/1965|11:29:49|   1.863|  127.352|Earthquake| 80.0|       NULL|                  NULL|      5.8|            MW|           NULL|                      NULL|         NULL|               NULL|            NULL|            NULL|        ISCGEM860737|   ISCGEM|         ISCGEM|          ISCGEM|Automatic|1965-01-04 11:29:49|\n",
            "|01/05/1965|18:05:58| -20.579| -173.972|Earthquake| 20.0|       NULL|                  NULL|      6.2|            MW|           NULL|                      NULL|         NULL|               NULL|            NULL|            NULL|        ISCGEM860762|   ISCGEM|         ISCGEM|          ISCGEM|Automatic|1965-01-05 18:05:58|\n",
            "|01/08/1965|18:49:43| -59.076|  -23.557|Earthquake| 15.0|       NULL|                  NULL|      5.8|            MW|           NULL|                      NULL|         NULL|               NULL|            NULL|            NULL|        ISCGEM860856|   ISCGEM|         ISCGEM|          ISCGEM|Automatic|1965-01-08 18:49:43|\n",
            "|01/09/1965|13:32:50|  11.938|  126.427|Earthquake| 15.0|       NULL|                  NULL|      5.8|            MW|           NULL|                      NULL|         NULL|               NULL|            NULL|            NULL|        ISCGEM860890|   ISCGEM|         ISCGEM|          ISCGEM|Automatic|1965-01-09 13:32:50|\n",
            "|01/10/1965|13:36:32| -13.405|  166.629|Earthquake| 35.0|       NULL|                  NULL|      6.7|            MW|           NULL|                      NULL|         NULL|               NULL|            NULL|            NULL|        ISCGEM860922|   ISCGEM|         ISCGEM|          ISCGEM|Automatic|1965-01-10 13:36:32|\n",
            "|01/12/1965|13:32:25|  27.357|   87.867|Earthquake| 20.0|       NULL|                  NULL|      5.9|            MW|           NULL|                      NULL|         NULL|               NULL|            NULL|            NULL|        ISCGEM861007|   ISCGEM|         ISCGEM|          ISCGEM|Automatic|1965-01-12 13:32:25|\n",
            "|01/15/1965|23:17:42| -13.309|  166.212|Earthquake| 35.0|       NULL|                  NULL|      6.0|            MW|           NULL|                      NULL|         NULL|               NULL|            NULL|            NULL|        ISCGEM861111|   ISCGEM|         ISCGEM|          ISCGEM|Automatic|1965-01-15 23:17:42|\n",
            "|01/16/1965|11:32:37| -56.452|  -27.043|Earthquake| 95.0|       NULL|                  NULL|      6.0|            MW|           NULL|                      NULL|         NULL|               NULL|            NULL|            NULL|     ISCGEMSUP861125|ISCGEMSUP|         ISCGEM|          ISCGEM|Automatic|1965-01-16 11:32:37|\n",
            "|01/17/1965|10:43:17| -24.563|  178.487|Earthquake|565.0|       NULL|                  NULL|      5.8|            MW|           NULL|                      NULL|         NULL|               NULL|            NULL|            NULL|        ISCGEM861148|   ISCGEM|         ISCGEM|          ISCGEM|Automatic|1965-01-17 10:43:17|\n",
            "|01/17/1965|20:57:41|  -6.807|  108.988|Earthquake|227.9|       NULL|                  NULL|      5.9|            MW|           NULL|                      NULL|         NULL|               NULL|            NULL|            NULL|        ISCGEM861155|   ISCGEM|         ISCGEM|          ISCGEM|Automatic|1965-01-17 20:57:41|\n",
            "|01/24/1965|00:11:17|  -2.608|  125.952|Earthquake| 20.0|       NULL|                  NULL|      8.2|            MW|           NULL|                      NULL|         NULL|               NULL|            NULL|            NULL|        ISCGEM861299|   ISCGEM|         ISCGEM|          ISCGEM|Automatic|1965-01-24 00:11:17|\n",
            "|01/29/1965|09:35:30|  54.636|  161.703|Earthquake| 55.0|       NULL|                  NULL|      5.5|            MW|           NULL|                      NULL|         NULL|               NULL|            NULL|            NULL|        ISCGEM861461|   ISCGEM|         ISCGEM|          ISCGEM|Automatic|1965-01-29 09:35:30|\n",
            "|02/01/1965|05:27:06| -18.697| -177.864|Earthquake|482.9|       NULL|                  NULL|      5.6|            MW|           NULL|                      NULL|         NULL|               NULL|            NULL|            NULL|        ISCGEM859136|   ISCGEM|         ISCGEM|          ISCGEM|Automatic|1965-02-01 05:27:06|\n",
            "|02/02/1965|15:56:51|  37.523|   73.251|Earthquake| 15.0|       NULL|                  NULL|      6.0|            MW|           NULL|                      NULL|         NULL|               NULL|            NULL|            NULL|        ISCGEM859164|   ISCGEM|         ISCGEM|          ISCGEM|Automatic|1965-02-02 15:56:51|\n",
            "|02/04/1965|03:25:00|  -51.84|  139.741|Earthquake| 10.0|       NULL|                  NULL|      6.1|            MW|           NULL|                      NULL|         NULL|               NULL|            NULL|            NULL|        ISCGEM859200|   ISCGEM|         ISCGEM|          ISCGEM|Automatic|1965-02-04 03:25:00|\n",
            "|02/04/1965|05:01:22|  51.251|  178.715|Earthquake| 30.3|       NULL|                  NULL|      8.7|            MW|           NULL|                      NULL|         NULL|               NULL|            NULL|            NULL|OFFICIAL196502040...| OFFICIAL|         ISCGEM|        OFFICIAL|Automatic|1965-02-04 05:01:22|\n",
            "|02/04/1965|06:04:59|  51.639|  175.055|Earthquake| 30.0|       NULL|                  NULL|      6.0|            MW|           NULL|                      NULL|         NULL|               NULL|            NULL|            NULL|     ISCGEMSUP859215|ISCGEMSUP|         ISCGEM|          ISCGEM|Automatic|1965-02-04 06:04:59|\n",
            "|02/04/1965|06:37:06|  52.528|  172.007|Earthquake| 25.0|       NULL|                  NULL|      5.7|            MW|           NULL|                      NULL|         NULL|               NULL|            NULL|            NULL|        ISCGEM859221|   ISCGEM|         ISCGEM|          ISCGEM|Automatic|1965-02-04 06:37:06|\n",
            "|02/04/1965|06:39:32|  51.626|  175.746|Earthquake| 25.0|       NULL|                  NULL|      5.8|            MW|           NULL|                      NULL|         NULL|               NULL|            NULL|            NULL|        ISCGEM859222|   ISCGEM|         ISCGEM|          ISCGEM|Automatic|1965-02-04 06:39:32|\n",
            "+----------+--------+--------+---------+----------+-----+-----------+----------------------+---------+--------------+---------------+--------------------------+-------------+-------------------+----------------+----------------+--------------------+---------+---------------+----------------+---------+-------------------+\n",
            "only showing top 20 rows\n",
            "\n"
          ]
        }
      ],
      "source": [
        "df = df.filter(df.Magnitude > 5.0)\n",
        "df.show()"
      ]
    },
    {
      "cell_type": "code",
      "execution_count": 5,
      "metadata": {
        "colab": {
          "base_uri": "https://localhost:8080/"
        },
        "id": "ChKc8A03_L20",
        "outputId": "f1aa4c13-2c17-4c7e-a7ff-cf3a16a73874"
      },
      "outputs": [
        {
          "name": "stdout",
          "output_type": "stream",
          "text": [
            "+-----------------+-----------------+-----------------+\n",
            "|             Type|    Average_Depth|Average_Magnitude|\n",
            "+-----------------+-----------------+-----------------+\n",
            "|        Explosion|              0.0|             5.85|\n",
            "|       Rock Burst|              1.0|              6.2|\n",
            "|Nuclear Explosion|              0.3|5.850685714285718|\n",
            "|       Earthquake|71.31391348140497|5.882762568870756|\n",
            "+-----------------+-----------------+-----------------+\n",
            "\n"
          ]
        }
      ],
      "source": [
        "unique_values = df.select(\"Type\").distinct().collect()\n",
        "unique_values\n",
        "result = df.groupBy(\"Type\").agg(avg(\"Depth\").alias(\"Average_Depth\"), avg(\"Magnitude\").alias(\"Average_Magnitude\"))\n",
        "result.show()"
      ]
    },
    {
      "cell_type": "code",
      "execution_count": 6,
      "metadata": {
        "colab": {
          "base_uri": "https://localhost:8080/"
        },
        "id": "wlhpkalX_L20",
        "outputId": "60b7879a-b9f3-4a65-9d3e-f14336215f7e"
      },
      "outputs": [
        {
          "name": "stdout",
          "output_type": "stream",
          "text": [
            "+----------+--------+--------+---------+----------+-----+-----------+----------------------+---------+--------------+---------------+--------------------------+-------------+-------------------+----------------+----------------+--------------------+---------+---------------+----------------+---------+-------------------+---------------+\n",
            "|      Date|    Time|Latitude|Longitude|      Type|Depth|Depth Error|Depth Seismic Stations|Magnitude|Magnitude Type|Magnitude Error|Magnitude Seismic Stations|Azimuthal Gap|Horizontal Distance|Horizontal Error|Root Mean Square|                  ID|   Source|Location Source|Magnitude Source|   Status|          Timestamp|Magnitude_Level|\n",
            "+----------+--------+--------+---------+----------+-----+-----------+----------------------+---------+--------------+---------------+--------------------------+-------------+-------------------+----------------+----------------+--------------------+---------+---------------+----------------+---------+-------------------+---------------+\n",
            "|01/02/1965|13:44:18|  19.246|  145.616|Earthquake|131.6|       NULL|                  NULL|      6.0|            MW|           NULL|                      NULL|         NULL|               NULL|            NULL|            NULL|        ISCGEM860706|   ISCGEM|         ISCGEM|          ISCGEM|Automatic|1965-01-02 13:44:18|       Moderate|\n",
            "|01/04/1965|11:29:49|   1.863|  127.352|Earthquake| 80.0|       NULL|                  NULL|      5.8|            MW|           NULL|                      NULL|         NULL|               NULL|            NULL|            NULL|        ISCGEM860737|   ISCGEM|         ISCGEM|          ISCGEM|Automatic|1965-01-04 11:29:49|       Moderate|\n",
            "|01/05/1965|18:05:58| -20.579| -173.972|Earthquake| 20.0|       NULL|                  NULL|      6.2|            MW|           NULL|                      NULL|         NULL|               NULL|            NULL|            NULL|        ISCGEM860762|   ISCGEM|         ISCGEM|          ISCGEM|Automatic|1965-01-05 18:05:58|       Moderate|\n",
            "|01/08/1965|18:49:43| -59.076|  -23.557|Earthquake| 15.0|       NULL|                  NULL|      5.8|            MW|           NULL|                      NULL|         NULL|               NULL|            NULL|            NULL|        ISCGEM860856|   ISCGEM|         ISCGEM|          ISCGEM|Automatic|1965-01-08 18:49:43|       Moderate|\n",
            "|01/09/1965|13:32:50|  11.938|  126.427|Earthquake| 15.0|       NULL|                  NULL|      5.8|            MW|           NULL|                      NULL|         NULL|               NULL|            NULL|            NULL|        ISCGEM860890|   ISCGEM|         ISCGEM|          ISCGEM|Automatic|1965-01-09 13:32:50|       Moderate|\n",
            "|01/10/1965|13:36:32| -13.405|  166.629|Earthquake| 35.0|       NULL|                  NULL|      6.7|            MW|           NULL|                      NULL|         NULL|               NULL|            NULL|            NULL|        ISCGEM860922|   ISCGEM|         ISCGEM|          ISCGEM|Automatic|1965-01-10 13:36:32|       Moderate|\n",
            "|01/12/1965|13:32:25|  27.357|   87.867|Earthquake| 20.0|       NULL|                  NULL|      5.9|            MW|           NULL|                      NULL|         NULL|               NULL|            NULL|            NULL|        ISCGEM861007|   ISCGEM|         ISCGEM|          ISCGEM|Automatic|1965-01-12 13:32:25|       Moderate|\n",
            "|01/15/1965|23:17:42| -13.309|  166.212|Earthquake| 35.0|       NULL|                  NULL|      6.0|            MW|           NULL|                      NULL|         NULL|               NULL|            NULL|            NULL|        ISCGEM861111|   ISCGEM|         ISCGEM|          ISCGEM|Automatic|1965-01-15 23:17:42|       Moderate|\n",
            "|01/16/1965|11:32:37| -56.452|  -27.043|Earthquake| 95.0|       NULL|                  NULL|      6.0|            MW|           NULL|                      NULL|         NULL|               NULL|            NULL|            NULL|     ISCGEMSUP861125|ISCGEMSUP|         ISCGEM|          ISCGEM|Automatic|1965-01-16 11:32:37|       Moderate|\n",
            "|01/17/1965|10:43:17| -24.563|  178.487|Earthquake|565.0|       NULL|                  NULL|      5.8|            MW|           NULL|                      NULL|         NULL|               NULL|            NULL|            NULL|        ISCGEM861148|   ISCGEM|         ISCGEM|          ISCGEM|Automatic|1965-01-17 10:43:17|       Moderate|\n",
            "|01/17/1965|20:57:41|  -6.807|  108.988|Earthquake|227.9|       NULL|                  NULL|      5.9|            MW|           NULL|                      NULL|         NULL|               NULL|            NULL|            NULL|        ISCGEM861155|   ISCGEM|         ISCGEM|          ISCGEM|Automatic|1965-01-17 20:57:41|       Moderate|\n",
            "|01/24/1965|00:11:17|  -2.608|  125.952|Earthquake| 20.0|       NULL|                  NULL|      8.2|            MW|           NULL|                      NULL|         NULL|               NULL|            NULL|            NULL|        ISCGEM861299|   ISCGEM|         ISCGEM|          ISCGEM|Automatic|1965-01-24 00:11:17|           High|\n",
            "|01/29/1965|09:35:30|  54.636|  161.703|Earthquake| 55.0|       NULL|                  NULL|      5.5|            MW|           NULL|                      NULL|         NULL|               NULL|            NULL|            NULL|        ISCGEM861461|   ISCGEM|         ISCGEM|          ISCGEM|Automatic|1965-01-29 09:35:30|       Moderate|\n",
            "|02/01/1965|05:27:06| -18.697| -177.864|Earthquake|482.9|       NULL|                  NULL|      5.6|            MW|           NULL|                      NULL|         NULL|               NULL|            NULL|            NULL|        ISCGEM859136|   ISCGEM|         ISCGEM|          ISCGEM|Automatic|1965-02-01 05:27:06|       Moderate|\n",
            "|02/02/1965|15:56:51|  37.523|   73.251|Earthquake| 15.0|       NULL|                  NULL|      6.0|            MW|           NULL|                      NULL|         NULL|               NULL|            NULL|            NULL|        ISCGEM859164|   ISCGEM|         ISCGEM|          ISCGEM|Automatic|1965-02-02 15:56:51|       Moderate|\n",
            "|02/04/1965|03:25:00|  -51.84|  139.741|Earthquake| 10.0|       NULL|                  NULL|      6.1|            MW|           NULL|                      NULL|         NULL|               NULL|            NULL|            NULL|        ISCGEM859200|   ISCGEM|         ISCGEM|          ISCGEM|Automatic|1965-02-04 03:25:00|       Moderate|\n",
            "|02/04/1965|05:01:22|  51.251|  178.715|Earthquake| 30.3|       NULL|                  NULL|      8.7|            MW|           NULL|                      NULL|         NULL|               NULL|            NULL|            NULL|OFFICIAL196502040...| OFFICIAL|         ISCGEM|        OFFICIAL|Automatic|1965-02-04 05:01:22|           High|\n",
            "|02/04/1965|06:04:59|  51.639|  175.055|Earthquake| 30.0|       NULL|                  NULL|      6.0|            MW|           NULL|                      NULL|         NULL|               NULL|            NULL|            NULL|     ISCGEMSUP859215|ISCGEMSUP|         ISCGEM|          ISCGEM|Automatic|1965-02-04 06:04:59|       Moderate|\n",
            "|02/04/1965|06:37:06|  52.528|  172.007|Earthquake| 25.0|       NULL|                  NULL|      5.7|            MW|           NULL|                      NULL|         NULL|               NULL|            NULL|            NULL|        ISCGEM859221|   ISCGEM|         ISCGEM|          ISCGEM|Automatic|1965-02-04 06:37:06|       Moderate|\n",
            "|02/04/1965|06:39:32|  51.626|  175.746|Earthquake| 25.0|       NULL|                  NULL|      5.8|            MW|           NULL|                      NULL|         NULL|               NULL|            NULL|            NULL|        ISCGEM859222|   ISCGEM|         ISCGEM|          ISCGEM|Automatic|1965-02-04 06:39:32|       Moderate|\n",
            "+----------+--------+--------+---------+----------+-----+-----------+----------------------+---------+--------------+---------------+--------------------------+-------------+-------------------+----------------+----------------+--------------------+---------+---------------+----------------+---------+-------------------+---------------+\n",
            "only showing top 20 rows\n",
            "\n"
          ]
        }
      ],
      "source": [
        "def categorize_magnitude(magnitude):\n",
        "    if magnitude < 5.0:\n",
        "        return \"Low\"\n",
        "    elif magnitude < 7.0:\n",
        "        return \"Moderate\"\n",
        "    else:\n",
        "        return \"High\"\n",
        "\n",
        "# Register the UDF\n",
        "categorize_magnitude_udf = udf(categorize_magnitude, StringType())\n",
        "\n",
        "# Apply the UDF to create a new column \"Magnitude_Level\"\n",
        "df = df.withColumn(\"Magnitude_Level\", categorize_magnitude_udf(\"Magnitude\"))\n",
        "df.show()"
      ]
    },
    {
      "cell_type": "code",
      "execution_count": 10,
      "metadata": {
        "id": "H10n4KH__L21"
      },
      "outputs": [
        {
          "name": "stdout",
          "output_type": "stream",
          "text": [
            "+----------+--------+--------+---------+----------+-----+-----------+----------------------+---------+--------------+---------------+--------------------------+-------------+-------------------+----------------+----------------+--------------------+---------+---------------+----------------+---------+-------------------+---------------+-----------------------+\n",
            "|      Date|    Time|Latitude|Longitude|      Type|Depth|Depth Error|Depth Seismic Stations|Magnitude|Magnitude Type|Magnitude Error|Magnitude Seismic Stations|Azimuthal Gap|Horizontal Distance|Horizontal Error|Root Mean Square|                  ID|   Source|Location Source|Magnitude Source|   Status|          Timestamp|Magnitude_Level|Distance_From_Reference|\n",
            "+----------+--------+--------+---------+----------+-----+-----------+----------------------+---------+--------------+---------------+--------------------------+-------------+-------------------+----------------+----------------+--------------------+---------+---------------+----------------+---------+-------------------+---------------+-----------------------+\n",
            "|01/02/1965|13:44:18|  19.246|  145.616|Earthquake|131.6|       NULL|                  NULL|      6.0|            MW|           NULL|                      NULL|         NULL|               NULL|            NULL|            NULL|        ISCGEM860706|   ISCGEM|         ISCGEM|          ISCGEM|Automatic|1965-01-02 13:44:18|       Moderate|      146.8823609968195|\n",
            "|01/04/1965|11:29:49|   1.863|  127.352|Earthquake| 80.0|       NULL|                  NULL|      5.8|            MW|           NULL|                      NULL|         NULL|               NULL|            NULL|            NULL|        ISCGEM860737|   ISCGEM|         ISCGEM|          ISCGEM|Automatic|1965-01-04 11:29:49|       Moderate|     127.36562594750595|\n",
            "|01/05/1965|18:05:58| -20.579| -173.972|Earthquake| 20.0|       NULL|                  NULL|      6.2|            MW|           NULL|                      NULL|         NULL|               NULL|            NULL|            NULL|        ISCGEM860762|   ISCGEM|         ISCGEM|          ISCGEM|Automatic|1965-01-05 18:05:58|       Moderate|     175.18490809713035|\n",
            "|01/08/1965|18:49:43| -59.076|  -23.557|Earthquake| 15.0|       NULL|                  NULL|      5.8|            MW|           NULL|                      NULL|         NULL|               NULL|            NULL|            NULL|        ISCGEM860856|   ISCGEM|         ISCGEM|          ISCGEM|Automatic|1965-01-08 18:49:43|       Moderate|      63.59957566682344|\n",
            "|01/09/1965|13:32:50|  11.938|  126.427|Earthquake| 15.0|       NULL|                  NULL|      5.8|            MW|           NULL|                      NULL|         NULL|               NULL|            NULL|            NULL|        ISCGEM860890|   ISCGEM|         ISCGEM|          ISCGEM|Automatic|1965-01-09 13:32:50|       Moderate|     126.98937818967381|\n",
            "|01/10/1965|13:36:32| -13.405|  166.629|Earthquake| 35.0|       NULL|                  NULL|      6.7|            MW|           NULL|                      NULL|         NULL|               NULL|            NULL|            NULL|        ISCGEM860922|   ISCGEM|         ISCGEM|          ISCGEM|Automatic|1965-01-10 13:36:32|       Moderate|     167.16733432701497|\n",
            "|01/12/1965|13:32:25|  27.357|   87.867|Earthquake| 20.0|       NULL|                  NULL|      5.9|            MW|           NULL|                      NULL|         NULL|               NULL|            NULL|            NULL|        ISCGEM861007|   ISCGEM|         ISCGEM|          ISCGEM|Automatic|1965-01-12 13:32:25|       Moderate|      92.02725214848046|\n",
            "|01/15/1965|23:17:42| -13.309|  166.212|Earthquake| 35.0|       NULL|                  NULL|      6.0|            MW|           NULL|                      NULL|         NULL|               NULL|            NULL|            NULL|        ISCGEM861111|   ISCGEM|         ISCGEM|          ISCGEM|Automatic|1965-01-15 23:17:42|       Moderate|     166.74399067132822|\n",
            "|01/16/1965|11:32:37| -56.452|  -27.043|Earthquake| 95.0|       NULL|                  NULL|      6.0|            MW|           NULL|                      NULL|         NULL|               NULL|            NULL|            NULL|     ISCGEMSUP861125|ISCGEMSUP|         ISCGEM|          ISCGEM|Automatic|1965-01-16 11:32:37|       Moderate|     62.595144803730584|\n",
            "|01/17/1965|10:43:17| -24.563|  178.487|Earthquake|565.0|       NULL|                  NULL|      5.8|            MW|           NULL|                      NULL|         NULL|               NULL|            NULL|            NULL|        ISCGEM861148|   ISCGEM|         ISCGEM|          ISCGEM|Automatic|1965-01-17 10:43:17|       Moderate|     180.16922639008027|\n",
            "|01/17/1965|20:57:41|  -6.807|  108.988|Earthquake|227.9|       NULL|                  NULL|      5.9|            MW|           NULL|                      NULL|         NULL|               NULL|            NULL|            NULL|        ISCGEM861155|   ISCGEM|         ISCGEM|          ISCGEM|Automatic|1965-01-17 20:57:41|       Moderate|      109.2003635204572|\n",
            "|01/24/1965|00:11:17|  -2.608|  125.952|Earthquake| 20.0|       NULL|                  NULL|      8.2|            MW|           NULL|                      NULL|         NULL|               NULL|            NULL|            NULL|        ISCGEM861299|   ISCGEM|         ISCGEM|          ISCGEM|Automatic|1965-01-24 00:11:17|           High|     125.97899812270298|\n",
            "|01/29/1965|09:35:30|  54.636|  161.703|Earthquake| 55.0|       NULL|                  NULL|      5.5|            MW|           NULL|                      NULL|         NULL|               NULL|            NULL|            NULL|        ISCGEM861461|   ISCGEM|         ISCGEM|          ISCGEM|Automatic|1965-01-29 09:35:30|       Moderate|     170.68377985327137|\n",
            "|02/01/1965|05:27:06| -18.697| -177.864|Earthquake|482.9|       NULL|                  NULL|      5.6|            MW|           NULL|                      NULL|         NULL|               NULL|            NULL|            NULL|        ISCGEM859136|   ISCGEM|         ISCGEM|          ISCGEM|Automatic|1965-02-01 05:27:06|       Moderate|     178.84401109626234|\n",
            "|02/02/1965|15:56:51|  37.523|   73.251|Earthquake| 15.0|       NULL|                  NULL|      6.0|            MW|           NULL|                      NULL|         NULL|               NULL|            NULL|            NULL|        ISCGEM859164|   ISCGEM|         ISCGEM|          ISCGEM|Automatic|1965-02-02 15:56:51|       Moderate|      82.30239686667699|\n",
            "|02/04/1965|03:25:00|  -51.84|  139.741|Earthquake| 10.0|       NULL|                  NULL|      6.1|            MW|           NULL|                      NULL|         NULL|               NULL|            NULL|            NULL|        ISCGEM859200|   ISCGEM|         ISCGEM|          ISCGEM|Automatic|1965-02-04 03:25:00|       Moderate|     149.04674663004224|\n",
            "|02/04/1965|05:01:22|  51.251|  178.715|Earthquake| 30.3|       NULL|                  NULL|      8.7|            MW|           NULL|                      NULL|         NULL|               NULL|            NULL|            NULL|OFFICIAL196502040...| OFFICIAL|         ISCGEM|        OFFICIAL|Automatic|1965-02-04 05:01:22|           High|     185.91857418235546|\n",
            "|02/04/1965|06:04:59|  51.639|  175.055|Earthquake| 30.0|       NULL|                  NULL|      6.0|            MW|           NULL|                      NULL|         NULL|               NULL|            NULL|            NULL|     ISCGEMSUP859215|ISCGEMSUP|         ISCGEM|          ISCGEM|Automatic|1965-02-04 06:04:59|       Moderate|     182.51257311758005|\n",
            "|02/04/1965|06:37:06|  52.528|  172.007|Earthquake| 25.0|       NULL|                  NULL|      5.7|            MW|           NULL|                      NULL|         NULL|               NULL|            NULL|            NULL|        ISCGEM859221|   ISCGEM|         ISCGEM|          ISCGEM|Automatic|1965-02-04 06:37:06|       Moderate|      179.8488221618368|\n",
            "|02/04/1965|06:39:32|  51.626|  175.746|Earthquake| 25.0|       NULL|                  NULL|      5.8|            MW|           NULL|                      NULL|         NULL|               NULL|            NULL|            NULL|        ISCGEM859222|   ISCGEM|         ISCGEM|          ISCGEM|Automatic|1965-02-04 06:39:32|       Moderate|     183.17177837210622|\n",
            "+----------+--------+--------+---------+----------+-----+-----------+----------------------+---------+--------------+---------------+--------------------------+-------------+-------------------+----------------+----------------+--------------------+---------+---------------+----------------+---------+-------------------+---------------+-----------------------+\n",
            "only showing top 20 rows\n",
            "\n"
          ]
        }
      ],
      "source": [
        "reference_location = (0.0, 0.0)\n",
        "df = df.withColumn(\"Distance_From_Reference\", sqrt((col(\"Latitude\") - reference_location[0])**2 + (col(\"Longitude\") - reference_location[1])**2))\n",
        "df.show()"
      ]
    },
    {
      "cell_type": "code",
      "execution_count": 45,
      "metadata": {
        "id": "_2bIHYw5_L21"
      },
      "outputs": [],
      "source": [
        "df.write.csv(\"Final\", header=True)"
      ]
    },
    {
      "cell_type": "code",
      "execution_count": null,
      "metadata": {},
      "outputs": [],
      "source": [
        "import folium\n",
        "from folium.plugins import MarkerCluster \n",
        "map_center = [0, 0]\n",
        "mymap = folium.Map(location=map_center, zoom_start=2)\n",
        "\n",
        "# Create a MarkerCluster layer for better performance\n",
        "marker_cluster = MarkerCluster().add_to(mymap)\n",
        "\n",
        "# Iterate through the DataFrame and add markers to the map\n",
        "for row in df.collect():\n",
        "    lat, lon, mag, depth = row[\"Latitude\"], row[\"Longitude\"], row[\"Magnitude\"], row[\"Depth\"]\n",
        "    folium.Marker(location=[lat, lon], popup=f\"Magnitude: {mag}, Depth: {depth}\").add_to(marker_cluster)\n",
        "\n",
        "# Save the map to an HTML file\n",
        "mymap.save(\"earthquake_map.html\")"
      ]
    }
  ],
  "metadata": {
    "colab": {
      "provenance": []
    },
    "kernelspec": {
      "display_name": "Python 3",
      "language": "python",
      "name": "python3"
    },
    "language_info": {
      "codemirror_mode": {
        "name": "ipython",
        "version": 3
      },
      "file_extension": ".py",
      "mimetype": "text/x-python",
      "name": "python",
      "nbconvert_exporter": "python",
      "pygments_lexer": "ipython3",
      "version": "3.10.0"
    }
  },
  "nbformat": 4,
  "nbformat_minor": 0
}
